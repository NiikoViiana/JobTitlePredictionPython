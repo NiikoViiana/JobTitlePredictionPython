import io
import pandas as pd

datos_jobs = pd.read_csv("Dataset/cleanjobs.csv")
datos_jobs

datos_jobs.info()

print(datos_jobs.hist())